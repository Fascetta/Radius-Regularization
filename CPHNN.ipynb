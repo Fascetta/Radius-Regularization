{
  "nbformat": 4,
  "nbformat_minor": 0,
  "metadata": {
    "colab": {
      "provenance": [],
      "machine_shape": "hm",
      "gpuType": "V100",
      "authorship_tag": "ABX9TyO8FOpwK6oKGc2G2YLituD/",
      "include_colab_link": true
    },
    "kernelspec": {
      "name": "python3",
      "display_name": "Python 3"
    },
    "language_info": {
      "name": "python"
    },
    "accelerator": "GPU"
  },
  "cells": [
    {
      "cell_type": "markdown",
      "metadata": {
        "id": "view-in-github",
        "colab_type": "text"
      },
      "source": [
        "<a href=\"https://colab.research.google.com/github/Fascetta/CPHNN/blob/main/CPHNN.ipynb\" target=\"_parent\"><img src=\"https://colab.research.google.com/assets/colab-badge.svg\" alt=\"Open In Colab\"/></a>"
      ]
    },
    {
      "cell_type": "code",
      "source": [
        "!ssh-keygen -t rsa -b 4096 -f ~/.ssh/id_rsa -N ''"
      ],
      "metadata": {
        "id": "F8DeFkylpS9c",
        "colab": {
          "base_uri": "https://localhost:8080/"
        },
        "outputId": "8bbc2c67-3990-4824-e3f1-daf13cf88cea"
      },
      "execution_count": 1,
      "outputs": [
        {
          "output_type": "stream",
          "name": "stdout",
          "text": [
            "Generating public/private rsa key pair.\n",
            "Created directory '/root/.ssh'.\n",
            "Your identification has been saved in /root/.ssh/id_rsa\n",
            "Your public key has been saved in /root/.ssh/id_rsa.pub\n",
            "The key fingerprint is:\n",
            "SHA256:HUEsnwv6QE/z6aClX6Vpv/CbnE9iEWQdXnbfjFKr8JA root@766078c197a9\n",
            "The key's randomart image is:\n",
            "+---[RSA 4096]----+\n",
            "|         oo o.o.+|\n",
            "|        . .= o.*+|\n",
            "|         oE.o + +|\n",
            "|      . +.o= +   |\n",
            "|     . +S+.o=    |\n",
            "|      o + ++ .   |\n",
            "|       * o* o .  |\n",
            "|      o .o.* =   |\n",
            "|       ..   O+.  |\n",
            "+----[SHA256]-----+\n"
          ]
        }
      ]
    },
    {
      "cell_type": "code",
      "source": [
        "!ssh-keyscan -t rsa github.com >> ~/.ssh/known_hosts"
      ],
      "metadata": {
        "id": "AhpeZHMepLlD",
        "colab": {
          "base_uri": "https://localhost:8080/"
        },
        "outputId": "003ff281-093e-4bc2-b2f0-6539daa433da"
      },
      "execution_count": 2,
      "outputs": [
        {
          "output_type": "stream",
          "name": "stdout",
          "text": [
            "# github.com:22 SSH-2.0-babeld-f524c1b4\n"
          ]
        }
      ]
    },
    {
      "cell_type": "code",
      "source": [
        "!cat ~/.ssh/id_rsa.pub"
      ],
      "metadata": {
        "id": "G5UcTnYPpRy2",
        "colab": {
          "base_uri": "https://localhost:8080/"
        },
        "outputId": "fb8de30a-b5f5-45ba-a9b8-1996175f25c4"
      },
      "execution_count": 3,
      "outputs": [
        {
          "output_type": "stream",
          "name": "stdout",
          "text": [
            "ssh-rsa AAAAB3NzaC1yc2EAAAADAQABAAACAQC8/PHB64Rl0OIkMKVMXSny58lNtAFBJDzhHW/bT0V27hJRIrmUzdz/xU0z/+laTprSzWn5HjOkbRd2sx1S7kmaMmU/q+DS9wVKVjrqd1qmSw/HLNNDQoeyJnCy8TvstmI5EL/T51KjYXiqaOQgc1DfVLxDh/s/3B0O4r1DzYFTVa7ZcseptGNalSjTX+V1Dsk3a96ybmv2WkYgjVBXIk55ft7SowOkbacVV7CMxD8dJJEby1X41y+3vAhvts2TL68U2XyBnK5f1Xis4JWVXpgcQSceLuloCsXQqdmPTteQkZhad0aLjv3Eyjst3hjgQjCof3GvEt8GPT6kO/K1+kv01gETyadR9rAcZSV02oR+hBeqTxsY0OXd4BMp/cVabKRk2dAWtgIa+peGulWwu4efGODEtvTqz6XLNtsPK/R40ZiCSCmKcVUZs2RsvSNjeAiZt6pnwISCrcr4RCTUCWsQDizlbwQn+fFKJm691aa1SfYEi4/TvE5UOoTWdkzmIVoFV9FXnsYgBJy7GfY3mlMbSKFZnuvySSZEL3Hy46+dggDjkhS+8a1oZU97b+8SB5fQ+Vv/GsBU01rRxzEUqBcVgc+BA4fG0Fa845tu5oTDXGe0SR9lOYKyYgy63S0dhvVm4t7TEzau0gfuVVzjK7hDHXmdHPoJuMjA8+16oz+Wiw== root@766078c197a9\n"
          ]
        }
      ]
    },
    {
      "cell_type": "code",
      "source": [
        "!git config --global user.email 'christianbianchi23@gmail.com'\n",
        "!git config --global user.name 'Fascetta'"
      ],
      "metadata": {
        "id": "iaYhyJ3fpiit"
      },
      "execution_count": 4,
      "outputs": []
    },
    {
      "cell_type": "code",
      "source": [
        "!git clone git@github.com:Fascetta/CPHNN.git"
      ],
      "metadata": {
        "id": "0fPnfzemp0Ap",
        "colab": {
          "base_uri": "https://localhost:8080/"
        },
        "outputId": "f19888c8-e6fe-44b2-f84e-bbb3aa963050"
      },
      "execution_count": 5,
      "outputs": [
        {
          "output_type": "stream",
          "name": "stdout",
          "text": [
            "Cloning into 'CPHNN'...\n",
            "remote: Enumerating objects: 148, done.\u001b[K\n",
            "remote: Counting objects: 100% (148/148), done.\u001b[K\n",
            "remote: Compressing objects: 100% (106/106), done.\u001b[K\n",
            "remote: Total 148 (delta 33), reused 145 (delta 32), pack-reused 0\u001b[K\n",
            "Receiving objects: 100% (148/148), 354.88 KiB | 1.34 MiB/s, done.\n",
            "Resolving deltas: 100% (33/33), done.\n"
          ]
        }
      ]
    },
    {
      "cell_type": "code",
      "source": [
        "!pip install -r requirements.txt"
      ],
      "metadata": {
        "colab": {
          "base_uri": "https://localhost:8080/",
          "height": 1000
        },
        "id": "PDc1q5UIqLAk",
        "outputId": "e1bf3141-f77f-4d2a-a5c4-e51169382443"
      },
      "execution_count": 7,
      "outputs": [
        {
          "output_type": "stream",
          "name": "stdout",
          "text": [
            "Collecting ConfigArgParse==1.5.3 (from -r requirements.txt (line 1))\n",
            "  Downloading ConfigArgParse-1.5.3-py3-none-any.whl (20 kB)\n",
            "Requirement already satisfied: matplotlib==3.7.1 in /usr/local/lib/python3.10/dist-packages (from -r requirements.txt (line 2)) (3.7.1)\n",
            "Collecting numpy==1.23.0 (from -r requirements.txt (line 3))\n",
            "  Downloading numpy-1.23.0-cp310-cp310-manylinux_2_17_x86_64.manylinux2014_x86_64.whl (17.0 MB)\n",
            "\u001b[2K     \u001b[90m━━━━━━━━━━━━━━━━━━━━━━━━━━━━━━━━━━━━━━━━\u001b[0m \u001b[32m17.0/17.0 MB\u001b[0m \u001b[31m62.8 MB/s\u001b[0m eta \u001b[36m0:00:00\u001b[0m\n",
            "\u001b[?25hCollecting scipy==1.10.1 (from -r requirements.txt (line 4))\n",
            "  Downloading scipy-1.10.1-cp310-cp310-manylinux_2_17_x86_64.manylinux2014_x86_64.whl (34.4 MB)\n",
            "\u001b[2K     \u001b[90m━━━━━━━━━━━━━━━━━━━━━━━━━━━━━━━━━━━━━━━━\u001b[0m \u001b[32m34.4/34.4 MB\u001b[0m \u001b[31m41.0 MB/s\u001b[0m eta \u001b[36m0:00:00\u001b[0m\n",
            "\u001b[?25hCollecting tqdm==4.65.0 (from -r requirements.txt (line 5))\n",
            "  Downloading tqdm-4.65.0-py3-none-any.whl (77 kB)\n",
            "\u001b[2K     \u001b[90m━━━━━━━━━━━━━━━━━━━━━━━━━━━━━━━━━━━━━━━━\u001b[0m \u001b[32m77.1/77.1 kB\u001b[0m \u001b[31m9.7 MB/s\u001b[0m eta \u001b[36m0:00:00\u001b[0m\n",
            "\u001b[?25hCollecting umap-learn==0.5.3 (from -r requirements.txt (line 6))\n",
            "  Downloading umap-learn-0.5.3.tar.gz (88 kB)\n",
            "\u001b[2K     \u001b[90m━━━━━━━━━━━━━━━━━━━━━━━━━━━━━━━━━━━━━━━━\u001b[0m \u001b[32m88.2/88.2 kB\u001b[0m \u001b[31m11.7 MB/s\u001b[0m eta \u001b[36m0:00:00\u001b[0m\n",
            "\u001b[?25h  Preparing metadata (setup.py) ... \u001b[?25l\u001b[?25hdone\n",
            "Requirement already satisfied: contourpy>=1.0.1 in /usr/local/lib/python3.10/dist-packages (from matplotlib==3.7.1->-r requirements.txt (line 2)) (1.2.1)\n",
            "Requirement already satisfied: cycler>=0.10 in /usr/local/lib/python3.10/dist-packages (from matplotlib==3.7.1->-r requirements.txt (line 2)) (0.12.1)\n",
            "Requirement already satisfied: fonttools>=4.22.0 in /usr/local/lib/python3.10/dist-packages (from matplotlib==3.7.1->-r requirements.txt (line 2)) (4.51.0)\n",
            "Requirement already satisfied: kiwisolver>=1.0.1 in /usr/local/lib/python3.10/dist-packages (from matplotlib==3.7.1->-r requirements.txt (line 2)) (1.4.5)\n",
            "Requirement already satisfied: packaging>=20.0 in /usr/local/lib/python3.10/dist-packages (from matplotlib==3.7.1->-r requirements.txt (line 2)) (24.0)\n",
            "Requirement already satisfied: pillow>=6.2.0 in /usr/local/lib/python3.10/dist-packages (from matplotlib==3.7.1->-r requirements.txt (line 2)) (9.4.0)\n",
            "Requirement already satisfied: pyparsing>=2.3.1 in /usr/local/lib/python3.10/dist-packages (from matplotlib==3.7.1->-r requirements.txt (line 2)) (3.1.2)\n",
            "Requirement already satisfied: python-dateutil>=2.7 in /usr/local/lib/python3.10/dist-packages (from matplotlib==3.7.1->-r requirements.txt (line 2)) (2.8.2)\n",
            "Requirement already satisfied: scikit-learn>=0.22 in /usr/local/lib/python3.10/dist-packages (from umap-learn==0.5.3->-r requirements.txt (line 6)) (1.2.2)\n",
            "Requirement already satisfied: numba>=0.49 in /usr/local/lib/python3.10/dist-packages (from umap-learn==0.5.3->-r requirements.txt (line 6)) (0.58.1)\n",
            "Collecting pynndescent>=0.5 (from umap-learn==0.5.3->-r requirements.txt (line 6))\n",
            "  Downloading pynndescent-0.5.12-py3-none-any.whl (56 kB)\n",
            "\u001b[2K     \u001b[90m━━━━━━━━━━━━━━━━━━━━━━━━━━━━━━━━━━━━━━━━\u001b[0m \u001b[32m56.8/56.8 kB\u001b[0m \u001b[31m7.5 MB/s\u001b[0m eta \u001b[36m0:00:00\u001b[0m\n",
            "\u001b[?25hRequirement already satisfied: llvmlite<0.42,>=0.41.0dev0 in /usr/local/lib/python3.10/dist-packages (from numba>=0.49->umap-learn==0.5.3->-r requirements.txt (line 6)) (0.41.1)\n",
            "Requirement already satisfied: joblib>=0.11 in /usr/local/lib/python3.10/dist-packages (from pynndescent>=0.5->umap-learn==0.5.3->-r requirements.txt (line 6)) (1.4.0)\n",
            "Requirement already satisfied: six>=1.5 in /usr/local/lib/python3.10/dist-packages (from python-dateutil>=2.7->matplotlib==3.7.1->-r requirements.txt (line 2)) (1.16.0)\n",
            "Requirement already satisfied: threadpoolctl>=2.0.0 in /usr/local/lib/python3.10/dist-packages (from scikit-learn>=0.22->umap-learn==0.5.3->-r requirements.txt (line 6)) (3.4.0)\n",
            "Building wheels for collected packages: umap-learn\n",
            "  Building wheel for umap-learn (setup.py) ... \u001b[?25l\u001b[?25hdone\n",
            "  Created wheel for umap-learn: filename=umap_learn-0.5.3-py3-none-any.whl size=82808 sha256=bd9eb7d98f9ae197aba5e92985e950a3ac6da910ee4ac73f32efd3c86c05ca63\n",
            "  Stored in directory: /root/.cache/pip/wheels/a0/e8/c6/a37ea663620bd5200ea1ba0907ab3c217042c1d035ef606acc\n",
            "Successfully built umap-learn\n",
            "Installing collected packages: tqdm, numpy, ConfigArgParse, scipy, pynndescent, umap-learn\n",
            "  Attempting uninstall: tqdm\n",
            "    Found existing installation: tqdm 4.66.2\n",
            "    Uninstalling tqdm-4.66.2:\n",
            "      Successfully uninstalled tqdm-4.66.2\n",
            "  Attempting uninstall: numpy\n",
            "    Found existing installation: numpy 1.25.2\n",
            "    Uninstalling numpy-1.25.2:\n",
            "      Successfully uninstalled numpy-1.25.2\n",
            "  Attempting uninstall: scipy\n",
            "    Found existing installation: scipy 1.11.4\n",
            "    Uninstalling scipy-1.11.4:\n",
            "      Successfully uninstalled scipy-1.11.4\n",
            "\u001b[31mERROR: pip's dependency resolver does not currently take into account all the packages that are installed. This behaviour is the source of the following dependency conflicts.\n",
            "chex 0.1.86 requires numpy>=1.24.1, but you have numpy 1.23.0 which is incompatible.\n",
            "pandas-stubs 2.0.3.230814 requires numpy>=1.25.0; python_version >= \"3.9\", but you have numpy 1.23.0 which is incompatible.\n",
            "tensorflow 2.15.0 requires numpy<2.0.0,>=1.23.5, but you have numpy 1.23.0 which is incompatible.\u001b[0m\u001b[31m\n",
            "\u001b[0mSuccessfully installed ConfigArgParse-1.5.3 numpy-1.23.0 pynndescent-0.5.12 scipy-1.10.1 tqdm-4.65.0 umap-learn-0.5.3\n"
          ]
        },
        {
          "output_type": "display_data",
          "data": {
            "application/vnd.colab-display-data+json": {
              "pip_warning": {
                "packages": [
                  "numpy"
                ]
              },
              "id": "7a253123116c4b85b346f2537c7e1bfa"
            }
          },
          "metadata": {}
        }
      ]
    },
    {
      "cell_type": "code",
      "source": [
        "!python code/generation/train.py"
      ],
      "metadata": {
        "colab": {
          "base_uri": "https://localhost:8080/"
        },
        "id": "vVD3wREJqV02",
        "outputId": "9abd3c16-1937-4e54-c893-0ce77443647b"
      },
      "execution_count": 1,
      "outputs": [
        {
          "output_type": "stream",
          "name": "stdout",
          "text": [
            "Running experiment: test\n",
            "Arguments:\n",
            "Namespace(config_file=None, exp_name='test', output_dir=None, device=['cuda:0'], dtype='float32', seed=1, load_checkpoint=None, num_epochs=100, batch_size=100, lr=0.0005, weight_decay=0, optimizer='RiemannianAdam', use_lr_scheduler=False, lr_scheduler_step=50, lr_scheduler_gamma=0.1, kl_coeff=0.024, batch_size_test=128, calc_fid_val=False, calc_fid_val_epoch_step=10, batch_size_fid_inception=512, model='L-VAE', enc_layers=4, dec_layers=3, z_dim=128, initial_filters=64, learn_K=False, embed_K=1.0, enc_K=1.0, dec_K=1.0, dataset='CIFAR-10')\n",
            "Loading dataset...\n",
            "Downloading https://www.cs.toronto.edu/~kriz/cifar-10-python.tar.gz to data/cifar-10-python.tar.gz\n",
            "100% 170498071/170498071 [00:06<00:00, 28378875.90it/s]\n",
            "Extracting data/cifar-10-python.tar.gz to data\n",
            "Files already downloaded and verified\n",
            "Creating model...\n",
            "-> Number of model params: 9095646 (trainable: 9088704)\n",
            "Creating optimizer...\n",
            "Training...\n",
            "/usr/lib/python3.10/multiprocessing/popen_fork.py:66: RuntimeWarning: os.fork() was called. os.fork() is incompatible with multithreaded code, and JAX is multithreaded, so this will likely lead to a deadlock.\n",
            "  self.pid = os.fork()\n",
            "400it [02:09,  3.10it/s]\n",
            "Epoch 1/100: , Loss = 35.9647, Loss_Rec = 33.9438, Loss_KL = 84.2015, Val_Loss = 137.8453, Val_Loss_Rec = 24.3405, Val_Loss_KL = 113.5048\n",
            "400it [02:07,  3.14it/s]\n",
            "Epoch 2/100: , Loss = 23.3995, Loss_Rec = 20.3858, Loss_KL = 125.5672, Val_Loss = 150.9591, Val_Loss_Rec = 17.6661, Val_Loss_KL = 133.2930\n",
            "400it [02:06,  3.15it/s]\n",
            "Epoch 3/100: , Loss = 19.9244, Loss_Rec = 16.7075, Loss_KL = 134.0371, Val_Loss = 152.4522, Val_Loss_Rec = 15.6951, Val_Loss_KL = 136.7572\n",
            "400it [02:07,  3.14it/s]\n",
            "Epoch 4/100: , Loss = 18.0291, Loss_Rec = 14.7337, Loss_KL = 137.3110, Val_Loss = 153.0199, Val_Loss_Rec = 13.5386, Val_Loss_KL = 139.4812\n",
            "400it [02:07,  3.14it/s]\n",
            "Epoch 5/100: , Loss = 16.8800, Loss_Rec = 13.5227, Loss_KL = 139.8878, Val_Loss = 154.3576, Val_Loss_Rec = 12.6383, Val_Loss_KL = 141.7193\n",
            "400it [02:07,  3.14it/s]\n",
            "Epoch 6/100: , Loss = 16.1172, Loss_Rec = 12.6860, Loss_KL = 142.9689, Val_Loss = 156.7249, Val_Loss_Rec = 12.0882, Val_Loss_KL = 144.6367\n",
            "400it [02:07,  3.13it/s]\n",
            "Epoch 7/100: , Loss = 15.5923, Loss_Rec = 12.0850, Loss_KL = 146.1377, Val_Loss = 160.0569, Val_Loss_Rec = 11.4058, Val_Loss_KL = 148.6511\n",
            "400it [02:08,  3.11it/s]\n",
            "Epoch 8/100: , Loss = 15.0721, Loss_Rec = 11.4865, Loss_KL = 149.4003, Val_Loss = 161.8979, Val_Loss_Rec = 11.3529, Val_Loss_KL = 150.5450\n",
            "400it [02:09,  3.10it/s]\n",
            "Epoch 9/100: , Loss = 14.7603, Loss_Rec = 11.1102, Loss_KL = 152.0879, Val_Loss = 164.7015, Val_Loss_Rec = 11.0817, Val_Loss_KL = 153.6198\n",
            "400it [02:08,  3.11it/s]\n",
            "Epoch 10/100: , Loss = 14.4281, Loss_Rec = 10.7155, Loss_KL = 154.6922, Val_Loss = 165.8346, Val_Loss_Rec = 10.4766, Val_Loss_KL = 155.3580\n",
            "400it [02:08,  3.12it/s]\n",
            "Epoch 11/100: , Loss = 14.1809, Loss_Rec = 10.4237, Loss_KL = 156.5508, Val_Loss = 167.6499, Val_Loss_Rec = 10.3752, Val_Loss_KL = 157.2748\n",
            "400it [02:07,  3.14it/s]\n",
            "Epoch 12/100: , Loss = 13.9863, Loss_Rec = 10.1813, Loss_KL = 158.5381, Val_Loss = 169.8108, Val_Loss_Rec = 10.2578, Val_Loss_KL = 159.5530\n",
            "400it [02:06,  3.17it/s]\n",
            "Epoch 13/100: , Loss = 13.7458, Loss_Rec = 9.8983, Loss_KL = 160.3115, Val_Loss = 170.6994, Val_Loss_Rec = 10.3098, Val_Loss_KL = 160.3896\n",
            "400it [02:06,  3.15it/s]\n",
            "Epoch 14/100: , Loss = 13.5694, Loss_Rec = 9.6821, Loss_KL = 161.9726, Val_Loss = 171.2383, Val_Loss_Rec = 9.8963, Val_Loss_KL = 161.3420\n",
            "400it [02:06,  3.16it/s]\n",
            "Epoch 15/100: , Loss = 13.3865, Loss_Rec = 9.4607, Loss_KL = 163.5742, Val_Loss = 172.7799, Val_Loss_Rec = 10.2795, Val_Loss_KL = 162.5004\n",
            "400it [02:06,  3.17it/s]\n",
            "Epoch 16/100: , Loss = 13.2294, Loss_Rec = 9.2791, Loss_KL = 164.5970, Val_Loss = 174.9598, Val_Loss_Rec = 9.7717, Val_Loss_KL = 165.1881\n",
            "400it [02:06,  3.15it/s]\n",
            "Epoch 17/100: , Loss = 13.0468, Loss_Rec = 9.0706, Loss_KL = 165.6733, Val_Loss = 177.7004, Val_Loss_Rec = 10.0956, Val_Loss_KL = 167.6048\n",
            "400it [02:06,  3.15it/s]\n",
            "Epoch 18/100: , Loss = 12.9189, Loss_Rec = 8.9203, Loss_KL = 166.6084, Val_Loss = 176.9743, Val_Loss_Rec = 9.5414, Val_Loss_KL = 167.4328\n",
            "400it [02:06,  3.16it/s]\n",
            "Epoch 19/100: , Loss = 12.7636, Loss_Rec = 8.7448, Loss_KL = 167.4503, Val_Loss = 177.2264, Val_Loss_Rec = 9.3969, Val_Loss_KL = 167.8295\n",
            "400it [02:07,  3.15it/s]\n",
            "Epoch 20/100: , Loss = 12.6638, Loss_Rec = 8.6329, Loss_KL = 167.9575, Val_Loss = 178.3095, Val_Loss_Rec = 9.3397, Val_Loss_KL = 168.9699\n",
            "400it [02:07,  3.15it/s]\n",
            "Epoch 21/100: , Loss = 12.5229, Loss_Rec = 8.4763, Loss_KL = 168.6085, Val_Loss = 177.0773, Val_Loss_Rec = 9.4859, Val_Loss_KL = 167.5915\n",
            "400it [02:07,  3.14it/s]\n",
            "Epoch 22/100: , Loss = 12.4371, Loss_Rec = 8.3824, Loss_KL = 168.9454, Val_Loss = 176.4536, Val_Loss_Rec = 9.6353, Val_Loss_KL = 166.8184\n",
            "400it [02:07,  3.15it/s]\n",
            "Epoch 23/100: , Loss = 12.3478, Loss_Rec = 8.2788, Loss_KL = 169.5410, Val_Loss = 177.9173, Val_Loss_Rec = 9.3806, Val_Loss_KL = 168.5368\n",
            "400it [02:07,  3.14it/s]\n",
            "Epoch 24/100: , Loss = 12.2821, Loss_Rec = 8.2060, Loss_KL = 169.8374, Val_Loss = 180.0180, Val_Loss_Rec = 9.3938, Val_Loss_KL = 170.6242\n",
            "400it [02:07,  3.13it/s]\n",
            "Epoch 25/100: , Loss = 12.1528, Loss_Rec = 8.0682, Loss_KL = 170.1897, Val_Loss = 178.8818, Val_Loss_Rec = 9.3750, Val_Loss_KL = 169.5069\n",
            "400it [02:08,  3.10it/s]\n",
            "Epoch 26/100: , Loss = 12.1618, Loss_Rec = 8.0689, Loss_KL = 170.5374, Val_Loss = 179.0715, Val_Loss_Rec = 9.3563, Val_Loss_KL = 169.7153\n",
            "400it [02:07,  3.13it/s]\n",
            "Epoch 27/100: , Loss = 12.0092, Loss_Rec = 7.9117, Loss_KL = 170.7275, Val_Loss = 179.6455, Val_Loss_Rec = 9.4372, Val_Loss_KL = 170.2083\n",
            "400it [02:08,  3.12it/s]\n",
            "Epoch 28/100: , Loss = 11.9470, Loss_Rec = 7.8391, Loss_KL = 171.1666, Val_Loss = 181.1245, Val_Loss_Rec = 9.4734, Val_Loss_KL = 171.6511\n",
            "400it [02:07,  3.13it/s]\n",
            "Epoch 29/100: , Loss = 11.8339, Loss_Rec = 7.7160, Loss_KL = 171.5795, Val_Loss = 181.2364, Val_Loss_Rec = 9.5298, Val_Loss_KL = 171.7066\n",
            "400it [02:07,  3.15it/s]\n",
            "Epoch 30/100: , Loss = 11.8059, Loss_Rec = 7.6877, Loss_KL = 171.5926, Val_Loss = 180.5816, Val_Loss_Rec = 9.5379, Val_Loss_KL = 171.0438\n",
            "400it [02:08,  3.12it/s]\n",
            "Epoch 31/100: , Loss = 11.7381, Loss_Rec = 7.6120, Loss_KL = 171.9197, Val_Loss = 180.8400, Val_Loss_Rec = 9.4243, Val_Loss_KL = 171.4157\n",
            "400it [02:08,  3.12it/s]\n",
            "Epoch 32/100: , Loss = 11.6623, Loss_Rec = 7.5335, Loss_KL = 172.0354, Val_Loss = 182.3766, Val_Loss_Rec = 10.0441, Val_Loss_KL = 172.3324\n",
            "400it [02:07,  3.14it/s]\n",
            "Epoch 33/100: , Loss = 11.5894, Loss_Rec = 7.4544, Loss_KL = 172.2945, Val_Loss = 181.1103, Val_Loss_Rec = 9.5387, Val_Loss_KL = 171.5715\n",
            "400it [02:07,  3.14it/s]\n",
            "Epoch 34/100: , Loss = 11.5686, Loss_Rec = 7.4280, Loss_KL = 172.5260, Val_Loss = 182.1761, Val_Loss_Rec = 9.5499, Val_Loss_KL = 172.6262\n",
            "400it [02:07,  3.13it/s]\n",
            "Epoch 35/100: , Loss = 11.5087, Loss_Rec = 7.3626, Loss_KL = 172.7525, Val_Loss = 181.9385, Val_Loss_Rec = 9.5888, Val_Loss_KL = 172.3497\n",
            "400it [02:08,  3.12it/s]\n",
            "Epoch 36/100: , Loss = 11.4258, Loss_Rec = 7.2763, Loss_KL = 172.8960, Val_Loss = 180.8346, Val_Loss_Rec = 9.5007, Val_Loss_KL = 171.3338\n",
            "400it [02:08,  3.12it/s]\n",
            "Epoch 37/100: , Loss = 11.3584, Loss_Rec = 7.2050, Loss_KL = 173.0586, Val_Loss = 182.0493, Val_Loss_Rec = 9.5199, Val_Loss_KL = 172.5294\n",
            "400it [02:08,  3.11it/s]\n",
            "Epoch 38/100: , Loss = 11.3428, Loss_Rec = 7.1872, Loss_KL = 173.1474, Val_Loss = 182.6378, Val_Loss_Rec = 9.5640, Val_Loss_KL = 173.0739\n",
            "400it [02:08,  3.12it/s]\n",
            "Epoch 39/100: , Loss = 11.2605, Loss_Rec = 7.0966, Loss_KL = 173.4982, Val_Loss = 182.6483, Val_Loss_Rec = 9.8064, Val_Loss_KL = 172.8419\n",
            "400it [02:08,  3.11it/s]\n",
            "Epoch 40/100: , Loss = 11.2997, Loss_Rec = 7.1316, Loss_KL = 173.6710, Val_Loss = 183.9086, Val_Loss_Rec = 9.6585, Val_Loss_KL = 174.2501\n",
            "400it [02:07,  3.13it/s]\n",
            "Epoch 41/100: , Loss = 11.2095, Loss_Rec = 7.0404, Loss_KL = 173.7128, Val_Loss = 185.8146, Val_Loss_Rec = 9.7569, Val_Loss_KL = 176.0577\n",
            "400it [02:07,  3.15it/s]\n",
            "Epoch 42/100: , Loss = 11.1873, Loss_Rec = 7.0151, Loss_KL = 173.8402, Val_Loss = 183.3586, Val_Loss_Rec = 9.5105, Val_Loss_KL = 173.8480\n",
            "400it [02:07,  3.14it/s]\n",
            "Epoch 43/100: , Loss = 11.1553, Loss_Rec = 6.9772, Loss_KL = 174.0884, Val_Loss = 183.7065, Val_Loss_Rec = 9.6680, Val_Loss_KL = 174.0385\n",
            "400it [02:08,  3.12it/s]\n",
            "Epoch 44/100: , Loss = 11.0715, Loss_Rec = 6.8930, Loss_KL = 174.1065, Val_Loss = 182.6026, Val_Loss_Rec = 9.8201, Val_Loss_KL = 172.7825\n",
            "400it [02:08,  3.12it/s]\n",
            "Epoch 45/100: , Loss = 11.0687, Loss_Rec = 6.8840, Loss_KL = 174.3645, Val_Loss = 184.0006, Val_Loss_Rec = 10.1006, Val_Loss_KL = 173.9000\n",
            "400it [02:07,  3.13it/s]\n",
            "Epoch 46/100: , Loss = 10.9977, Loss_Rec = 6.8119, Loss_KL = 174.4109, Val_Loss = 184.1231, Val_Loss_Rec = 9.7913, Val_Loss_KL = 174.3318\n",
            "400it [02:08,  3.12it/s]\n",
            "Epoch 47/100: , Loss = 10.9536, Loss_Rec = 6.7665, Loss_KL = 174.4648, Val_Loss = 185.1529, Val_Loss_Rec = 10.4070, Val_Loss_KL = 174.7459\n",
            "400it [02:08,  3.11it/s]\n",
            "Epoch 48/100: , Loss = 10.9847, Loss_Rec = 6.7923, Loss_KL = 174.6837, Val_Loss = 184.8484, Val_Loss_Rec = 10.0512, Val_Loss_KL = 174.7972\n",
            "400it [02:08,  3.12it/s]\n",
            "Epoch 49/100: , Loss = 10.9200, Loss_Rec = 6.7287, Loss_KL = 174.6385, Val_Loss = 184.9328, Val_Loss_Rec = 9.5052, Val_Loss_KL = 175.4275\n",
            "400it [02:08,  3.12it/s]\n",
            "Epoch 50/100: , Loss = 10.9078, Loss_Rec = 6.7136, Loss_KL = 174.7586, Val_Loss = 184.0826, Val_Loss_Rec = 9.8401, Val_Loss_KL = 174.2425\n",
            "400it [02:08,  3.12it/s]\n",
            "Epoch 51/100: , Loss = 10.8785, Loss_Rec = 6.6774, Loss_KL = 175.0463, Val_Loss = 184.4265, Val_Loss_Rec = 9.7395, Val_Loss_KL = 174.6870\n",
            "400it [02:07,  3.13it/s]\n",
            "Epoch 52/100: , Loss = 10.8047, Loss_Rec = 6.6074, Loss_KL = 174.8904, Val_Loss = 184.9261, Val_Loss_Rec = 9.9578, Val_Loss_KL = 174.9682\n",
            "400it [02:07,  3.15it/s]\n",
            "Epoch 53/100: , Loss = 10.8395, Loss_Rec = 6.6345, Loss_KL = 175.2060, Val_Loss = 183.0748, Val_Loss_Rec = 9.7469, Val_Loss_KL = 173.3279\n",
            "400it [02:07,  3.14it/s]\n",
            "Epoch 54/100: , Loss = 10.7690, Loss_Rec = 6.5631, Loss_KL = 175.2474, Val_Loss = 185.4868, Val_Loss_Rec = 10.4655, Val_Loss_KL = 175.0213\n",
            "400it [02:07,  3.13it/s]\n",
            "Epoch 55/100: , Loss = 10.7770, Loss_Rec = 6.5670, Loss_KL = 175.4164, Val_Loss = 184.3363, Val_Loss_Rec = 10.3761, Val_Loss_KL = 173.9601\n",
            "400it [02:07,  3.13it/s]\n",
            "Epoch 56/100: , Loss = 10.7050, Loss_Rec = 6.4964, Loss_KL = 175.3579, Val_Loss = 186.9408, Val_Loss_Rec = 10.5285, Val_Loss_KL = 176.4122\n",
            "400it [02:08,  3.10it/s]\n",
            "Epoch 57/100: , Loss = 10.6616, Loss_Rec = 6.4522, Loss_KL = 175.3928, Val_Loss = 185.2063, Val_Loss_Rec = 10.0433, Val_Loss_KL = 175.1629\n",
            "400it [02:08,  3.10it/s]\n",
            "Epoch 58/100: , Loss = 10.6514, Loss_Rec = 6.4376, Loss_KL = 175.5751, Val_Loss = 184.4246, Val_Loss_Rec = 9.7262, Val_Loss_KL = 174.6984\n",
            "400it [02:08,  3.11it/s]\n",
            "Epoch 59/100: , Loss = 10.6437, Loss_Rec = 6.4299, Loss_KL = 175.5779, Val_Loss = 184.8227, Val_Loss_Rec = 9.7510, Val_Loss_KL = 175.0717\n",
            "400it [02:08,  3.12it/s]\n",
            "Epoch 60/100: , Loss = 10.6310, Loss_Rec = 6.4145, Loss_KL = 175.6860, Val_Loss = 185.0389, Val_Loss_Rec = 9.8153, Val_Loss_KL = 175.2236\n",
            "400it [02:08,  3.12it/s]\n",
            "Epoch 61/100: , Loss = 10.5862, Loss_Rec = 6.3690, Loss_KL = 175.7164, Val_Loss = 185.4564, Val_Loss_Rec = 10.1850, Val_Loss_KL = 175.2715\n",
            "400it [02:08,  3.12it/s]\n",
            "Epoch 62/100: , Loss = 10.5815, Loss_Rec = 6.3631, Loss_KL = 175.7651, Val_Loss = 187.0283, Val_Loss_Rec = 10.7425, Val_Loss_KL = 176.2859\n",
            "400it [02:08,  3.12it/s]\n",
            "Epoch 63/100: , Loss = 10.6003, Loss_Rec = 6.3764, Loss_KL = 175.9959, Val_Loss = 187.3269, Val_Loss_Rec = 10.2748, Val_Loss_KL = 177.0522\n",
            "400it [02:08,  3.12it/s]\n",
            "Epoch 64/100: , Loss = 10.5176, Loss_Rec = 6.2966, Loss_KL = 175.8721, Val_Loss = 186.9529, Val_Loss_Rec = 9.6849, Val_Loss_KL = 177.2680\n",
            "400it [02:08,  3.12it/s]\n",
            "Epoch 65/100: , Loss = 10.5223, Loss_Rec = 6.2952, Loss_KL = 176.1262, Val_Loss = 186.3658, Val_Loss_Rec = 9.8339, Val_Loss_KL = 176.5319\n",
            "400it [02:08,  3.11it/s]\n",
            "Epoch 66/100: , Loss = 10.4630, Loss_Rec = 6.2401, Loss_KL = 175.9534, Val_Loss = 186.8975, Val_Loss_Rec = 9.9006, Val_Loss_KL = 176.9969\n",
            "400it [02:08,  3.11it/s]\n",
            "Epoch 67/100: , Loss = 10.4649, Loss_Rec = 6.2373, Loss_KL = 176.1477, Val_Loss = 187.6063, Val_Loss_Rec = 10.9470, Val_Loss_KL = 176.6593\n",
            "400it [02:08,  3.12it/s]\n",
            "Epoch 68/100: , Loss = 10.5062, Loss_Rec = 6.2777, Loss_KL = 176.1866, Val_Loss = 185.6668, Val_Loss_Rec = 9.9093, Val_Loss_KL = 175.7575\n",
            "400it [02:08,  3.12it/s]\n",
            "Epoch 69/100: , Loss = 10.4222, Loss_Rec = 6.1945, Loss_KL = 176.1536, Val_Loss = 186.3410, Val_Loss_Rec = 9.6369, Val_Loss_KL = 176.7040\n",
            "400it [02:07,  3.14it/s]\n",
            "Epoch 70/100: , Loss = 10.4338, Loss_Rec = 6.2016, Loss_KL = 176.3435, Val_Loss = 185.6691, Val_Loss_Rec = 9.7507, Val_Loss_KL = 175.9183\n",
            "400it [02:06,  3.15it/s]\n",
            "Epoch 71/100: , Loss = 10.4033, Loss_Rec = 6.1693, Loss_KL = 176.4150, Val_Loss = 186.8186, Val_Loss_Rec = 10.3161, Val_Loss_KL = 176.5025\n",
            "400it [02:07,  3.13it/s]\n",
            "Epoch 72/100: , Loss = 10.4244, Loss_Rec = 6.1915, Loss_KL = 176.3735, Val_Loss = 188.1497, Val_Loss_Rec = 9.9596, Val_Loss_KL = 178.1901\n",
            "400it [02:08,  3.12it/s]\n",
            "Epoch 73/100: , Loss = 10.3615, Loss_Rec = 6.1278, Loss_KL = 176.4030, Val_Loss = 188.0823, Val_Loss_Rec = 9.9375, Val_Loss_KL = 178.1448\n",
            "400it [02:07,  3.13it/s]\n",
            "Epoch 74/100: , Loss = 10.3598, Loss_Rec = 6.1241, Loss_KL = 176.4853, Val_Loss = 186.6001, Val_Loss_Rec = 9.9954, Val_Loss_KL = 176.6048\n",
            "400it [02:07,  3.13it/s]\n",
            "Epoch 75/100: , Loss = 10.3328, Loss_Rec = 6.0935, Loss_KL = 176.6373, Val_Loss = 186.3786, Val_Loss_Rec = 10.0875, Val_Loss_KL = 176.2911\n",
            "400it [02:07,  3.14it/s]\n",
            "Epoch 76/100: , Loss = 10.3578, Loss_Rec = 6.1193, Loss_KL = 176.6044, Val_Loss = 187.7980, Val_Loss_Rec = 10.0258, Val_Loss_KL = 177.7723\n",
            "400it [02:07,  3.13it/s]\n",
            "Epoch 77/100: , Loss = 10.2920, Loss_Rec = 6.0554, Loss_KL = 176.5281, Val_Loss = 186.9323, Val_Loss_Rec = 9.7407, Val_Loss_KL = 177.1916\n",
            "400it [02:07,  3.14it/s]\n",
            "Epoch 78/100: , Loss = 10.2789, Loss_Rec = 6.0398, Loss_KL = 176.6308, Val_Loss = 186.7060, Val_Loss_Rec = 9.6096, Val_Loss_KL = 177.0964\n",
            "400it [02:07,  3.14it/s]\n",
            "Epoch 79/100: , Loss = 10.3081, Loss_Rec = 6.0650, Loss_KL = 176.7950, Val_Loss = 186.7954, Val_Loss_Rec = 9.7904, Val_Loss_KL = 177.0050\n",
            "400it [02:07,  3.14it/s]\n",
            "Epoch 80/100: , Loss = 10.2656, Loss_Rec = 6.0230, Loss_KL = 176.7767, Val_Loss = 186.0475, Val_Loss_Rec = 9.8753, Val_Loss_KL = 176.1722\n",
            "400it [02:07,  3.13it/s]\n",
            "Epoch 81/100: , Loss = 10.2631, Loss_Rec = 6.0210, Loss_KL = 176.7515, Val_Loss = 187.5128, Val_Loss_Rec = 10.7787, Val_Loss_KL = 176.7341\n",
            "400it [02:07,  3.14it/s]\n",
            "Epoch 82/100: , Loss = 10.2317, Loss_Rec = 5.9883, Loss_KL = 176.8070, Val_Loss = 184.7930, Val_Loss_Rec = 9.8713, Val_Loss_KL = 174.9217\n",
            "400it [02:07,  3.14it/s]\n",
            "Epoch 83/100: , Loss = 10.2449, Loss_Rec = 6.0001, Loss_KL = 176.8675, Val_Loss = 187.8663, Val_Loss_Rec = 10.4995, Val_Loss_KL = 177.3667\n",
            "400it [02:07,  3.13it/s]\n",
            "Epoch 84/100: , Loss = 10.2298, Loss_Rec = 5.9841, Loss_KL = 176.9054, Val_Loss = 186.5013, Val_Loss_Rec = 9.7535, Val_Loss_KL = 176.7478\n",
            "400it [02:08,  3.12it/s]\n",
            "Epoch 85/100: , Loss = 10.1664, Loss_Rec = 5.9199, Loss_KL = 176.9349, Val_Loss = 186.4879, Val_Loss_Rec = 9.9785, Val_Loss_KL = 176.5094\n",
            "400it [02:08,  3.12it/s]\n",
            "Epoch 86/100: , Loss = 10.1734, Loss_Rec = 5.9243, Loss_KL = 177.0432, Val_Loss = 186.6292, Val_Loss_Rec = 9.9692, Val_Loss_KL = 176.6600\n",
            "400it [02:07,  3.13it/s]\n",
            "Epoch 87/100: , Loss = 10.1814, Loss_Rec = 5.9362, Loss_KL = 176.8831, Val_Loss = 186.7712, Val_Loss_Rec = 10.2909, Val_Loss_KL = 176.4803\n",
            "400it [02:07,  3.14it/s]\n",
            "Epoch 88/100: , Loss = 10.1678, Loss_Rec = 5.9183, Loss_KL = 177.0644, Val_Loss = 188.9389, Val_Loss_Rec = 10.5090, Val_Loss_KL = 178.4299\n",
            "400it [02:07,  3.13it/s]\n",
            "Epoch 89/100: , Loss = 10.1345, Loss_Rec = 5.8834, Loss_KL = 177.1307, Val_Loss = 187.3461, Val_Loss_Rec = 10.2974, Val_Loss_KL = 177.0488\n",
            "400it [02:07,  3.14it/s]\n",
            "Epoch 90/100: , Loss = 10.1547, Loss_Rec = 5.9017, Loss_KL = 177.2073, Val_Loss = 186.7634, Val_Loss_Rec = 9.5813, Val_Loss_KL = 177.1820\n",
            "400it [02:07,  3.13it/s]\n",
            "Epoch 91/100: , Loss = 10.0914, Loss_Rec = 5.8415, Loss_KL = 177.0766, Val_Loss = 188.2713, Val_Loss_Rec = 10.0598, Val_Loss_KL = 178.2115\n",
            "400it [02:07,  3.14it/s]\n",
            "Epoch 92/100: , Loss = 10.1521, Loss_Rec = 5.8988, Loss_KL = 177.2203, Val_Loss = 187.0639, Val_Loss_Rec = 10.6227, Val_Loss_KL = 176.4412\n",
            "400it [02:07,  3.13it/s]\n",
            "Epoch 93/100: , Loss = 10.0807, Loss_Rec = 5.8250, Loss_KL = 177.3181, Val_Loss = 187.2896, Val_Loss_Rec = 9.7285, Val_Loss_KL = 177.5611\n",
            "400it [02:07,  3.14it/s]\n",
            "Epoch 94/100: , Loss = 10.0847, Loss_Rec = 5.8359, Loss_KL = 177.0329, Val_Loss = 187.2979, Val_Loss_Rec = 10.0768, Val_Loss_KL = 177.2212\n",
            "400it [02:07,  3.14it/s]\n",
            "Epoch 95/100: , Loss = 10.0611, Loss_Rec = 5.8079, Loss_KL = 177.2186, Val_Loss = 187.2220, Val_Loss_Rec = 9.9018, Val_Loss_KL = 177.3202\n",
            "400it [02:07,  3.14it/s]\n",
            "Epoch 96/100: , Loss = 10.0748, Loss_Rec = 5.8195, Loss_KL = 177.3042, Val_Loss = 188.5955, Val_Loss_Rec = 10.0843, Val_Loss_KL = 178.5111\n",
            "400it [02:07,  3.14it/s]\n",
            "Epoch 97/100: , Loss = 10.0815, Loss_Rec = 5.8269, Loss_KL = 177.2765, Val_Loss = 188.5647, Val_Loss_Rec = 9.7643, Val_Loss_KL = 178.8004\n",
            "400it [02:07,  3.13it/s]\n",
            "Epoch 98/100: , Loss = 10.0292, Loss_Rec = 5.7753, Loss_KL = 177.2454, Val_Loss = 187.6945, Val_Loss_Rec = 9.9502, Val_Loss_KL = 177.7443\n",
            "400it [02:07,  3.13it/s]\n",
            "Epoch 99/100: , Loss = 10.0583, Loss_Rec = 5.8008, Loss_KL = 177.3951, Val_Loss = 187.2538, Val_Loss_Rec = 9.9171, Val_Loss_KL = 177.3368\n",
            "400it [02:07,  3.13it/s]\n",
            "Epoch 100/100: , Loss = 10.0376, Loss_Rec = 5.7805, Loss_KL = 177.3800, Val_Loss = 186.8291, Val_Loss_Rec = 9.9879, Val_Loss_KL = 176.8412\n",
            "-----------------\n",
            "Training finished\n",
            "-----------------\n",
            "Model not saved.\n",
            "Testing...\n",
            "Calculating reconstruction FID...\n",
            "/usr/local/lib/python3.10/dist-packages/torchvision/models/_utils.py:208: UserWarning: The parameter 'pretrained' is deprecated since 0.13 and may be removed in the future, please use 'weights' instead.\n",
            "  warnings.warn(\n",
            "/usr/local/lib/python3.10/dist-packages/torchvision/models/_utils.py:223: UserWarning: Arguments other than a weight enum or `None` for 'weights' are deprecated since 0.13 and may be removed in the future. The current behavior is equivalent to passing `weights=None`.\n",
            "  warnings.warn(msg)\n",
            "Downloading: \"https://github.com/mseitzer/pytorch-fid/releases/download/fid_weights/pt_inception-2015-12-05-6726825d.pth\" to /root/.cache/torch/hub/checkpoints/pt_inception-2015-12-05-6726825d.pth\n",
            "100% 91.2M/91.2M [00:00<00:00, 290MB/s]\n",
            "Calculating generation FID...\n",
            "Testing: , Loss = 186.5517, Loss_Rec = 9.9494, Loss_KL = 176.6023, FID_rec = 61.4416, FID_gen = 90.0045\n"
          ]
        }
      ]
    },
    {
      "cell_type": "code",
      "source": [],
      "metadata": {
        "id": "JPnYe-WZ2HSu"
      },
      "execution_count": null,
      "outputs": []
    }
  ]
}